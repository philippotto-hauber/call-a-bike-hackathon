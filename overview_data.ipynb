{
 "cells": [
  {
   "cell_type": "markdown",
   "id": "dc537bdb-20d2-4b5f-910a-07d3f199bc42",
   "metadata": {},
   "source": [
    "# Overview Call-a-Bike data"
   ]
  },
  {
   "cell_type": "code",
   "execution_count": 3,
   "id": "510f1151-89cf-420e-88be-5af50895eb00",
   "metadata": {
    "tags": []
   },
   "outputs": [],
   "source": [
    "import pandas as pd\n",
    "import matplotlib.pyplot as plt"
   ]
  },
  {
   "cell_type": "markdown",
   "id": "4c266bda-256e-42b3-a321-10ea91533af9",
   "metadata": {},
   "source": [
    "## BIKETRIPS"
   ]
  },
  {
   "cell_type": "code",
   "execution_count": 50,
   "id": "a44075ca-dbea-4d6f-8da2-49ee8db997d4",
   "metadata": {
    "tags": []
   },
   "outputs": [
    {
     "data": {
      "text/html": [
       "<div>\n",
       "<style scoped>\n",
       "    .dataframe tbody tr th:only-of-type {\n",
       "        vertical-align: middle;\n",
       "    }\n",
       "\n",
       "    .dataframe tbody tr th {\n",
       "        vertical-align: top;\n",
       "    }\n",
       "\n",
       "    .dataframe thead th {\n",
       "        text-align: right;\n",
       "    }\n",
       "</style>\n",
       "<table border=\"1\" class=\"dataframe\">\n",
       "  <thead>\n",
       "    <tr style=\"text-align: right;\">\n",
       "      <th></th>\n",
       "      <th>Unnamed: 0</th>\n",
       "      <th>booking_hal_id</th>\n",
       "      <th>vehicle_hal_id</th>\n",
       "      <th>customer_hal_id</th>\n",
       "      <th>datetime_from</th>\n",
       "      <th>datetime_to</th>\n",
       "      <th>start_station_id</th>\n",
       "      <th>end_station_id</th>\n",
       "      <th>city_rental_zone</th>\n",
       "      <th>date_from</th>\n",
       "      <th>date_to</th>\n",
       "      <th>hour_from</th>\n",
       "      <th>hour_to</th>\n",
       "      <th>duration_trip_minutes</th>\n",
       "    </tr>\n",
       "  </thead>\n",
       "  <tbody>\n",
       "    <tr>\n",
       "      <th>0</th>\n",
       "      <td>1</td>\n",
       "      <td>21366843</td>\n",
       "      <td>143517</td>\n",
       "      <td>A821059B555C7764A2FF801180874A2FCB326222</td>\n",
       "      <td>2014-01-01 00:34:54</td>\n",
       "      <td>2014-01-01 00:50:14</td>\n",
       "      <td>214170</td>\n",
       "      <td>131880</td>\n",
       "      <td>Hamburg</td>\n",
       "      <td>2014-01-01</td>\n",
       "      <td>2014-01-01</td>\n",
       "      <td>0</td>\n",
       "      <td>0</td>\n",
       "      <td>15.333333</td>\n",
       "    </tr>\n",
       "    <tr>\n",
       "      <th>1</th>\n",
       "      <td>2</td>\n",
       "      <td>21367069</td>\n",
       "      <td>119830</td>\n",
       "      <td>1EBC930DB407ACEAE2FDE23A6CA40492EA3DFBB2</td>\n",
       "      <td>2014-01-01 01:39:55</td>\n",
       "      <td>2014-01-01 01:57:27</td>\n",
       "      <td>131646</td>\n",
       "      <td>131648</td>\n",
       "      <td>Hamburg</td>\n",
       "      <td>2014-01-01</td>\n",
       "      <td>2014-01-01</td>\n",
       "      <td>1</td>\n",
       "      <td>1</td>\n",
       "      <td>17.533333</td>\n",
       "    </tr>\n",
       "    <tr>\n",
       "      <th>2</th>\n",
       "      <td>3</td>\n",
       "      <td>21367072</td>\n",
       "      <td>143501</td>\n",
       "      <td>7AD2C1B70137479062A6DD73815835986677BB2D</td>\n",
       "      <td>2014-01-01 01:40:20</td>\n",
       "      <td>2014-01-01 01:53:09</td>\n",
       "      <td>211922</td>\n",
       "      <td>138376</td>\n",
       "      <td>Hamburg</td>\n",
       "      <td>2014-01-01</td>\n",
       "      <td>2014-01-01</td>\n",
       "      <td>1</td>\n",
       "      <td>1</td>\n",
       "      <td>12.816667</td>\n",
       "    </tr>\n",
       "    <tr>\n",
       "      <th>3</th>\n",
       "      <td>4</td>\n",
       "      <td>21367155</td>\n",
       "      <td>108641</td>\n",
       "      <td>4F4F752203EA6FC872D576E9289C4E1B362E16F6</td>\n",
       "      <td>2014-01-01 02:05:55</td>\n",
       "      <td>2014-01-01 02:13:49</td>\n",
       "      <td>140799</td>\n",
       "      <td>211923</td>\n",
       "      <td>Hamburg</td>\n",
       "      <td>2014-01-01</td>\n",
       "      <td>2014-01-01</td>\n",
       "      <td>2</td>\n",
       "      <td>2</td>\n",
       "      <td>7.900000</td>\n",
       "    </tr>\n",
       "    <tr>\n",
       "      <th>4</th>\n",
       "      <td>5</td>\n",
       "      <td>21367221</td>\n",
       "      <td>143829</td>\n",
       "      <td>FEA7FF33A3252EE99E58B9E15724AA861CAB1DDF</td>\n",
       "      <td>2014-01-01 02:29:03</td>\n",
       "      <td>2014-01-01 02:32:41</td>\n",
       "      <td>208295</td>\n",
       "      <td>213833</td>\n",
       "      <td>Hamburg</td>\n",
       "      <td>2014-01-01</td>\n",
       "      <td>2014-01-01</td>\n",
       "      <td>2</td>\n",
       "      <td>2</td>\n",
       "      <td>3.633333</td>\n",
       "    </tr>\n",
       "  </tbody>\n",
       "</table>\n",
       "</div>"
      ],
      "text/plain": [
       "   Unnamed: 0  booking_hal_id  vehicle_hal_id  \\\n",
       "0           1        21366843          143517   \n",
       "1           2        21367069          119830   \n",
       "2           3        21367072          143501   \n",
       "3           4        21367155          108641   \n",
       "4           5        21367221          143829   \n",
       "\n",
       "                            customer_hal_id        datetime_from  \\\n",
       "0  A821059B555C7764A2FF801180874A2FCB326222  2014-01-01 00:34:54   \n",
       "1  1EBC930DB407ACEAE2FDE23A6CA40492EA3DFBB2  2014-01-01 01:39:55   \n",
       "2  7AD2C1B70137479062A6DD73815835986677BB2D  2014-01-01 01:40:20   \n",
       "3  4F4F752203EA6FC872D576E9289C4E1B362E16F6  2014-01-01 02:05:55   \n",
       "4  FEA7FF33A3252EE99E58B9E15724AA861CAB1DDF  2014-01-01 02:29:03   \n",
       "\n",
       "           datetime_to  start_station_id  end_station_id city_rental_zone  \\\n",
       "0  2014-01-01 00:50:14            214170          131880          Hamburg   \n",
       "1  2014-01-01 01:57:27            131646          131648          Hamburg   \n",
       "2  2014-01-01 01:53:09            211922          138376          Hamburg   \n",
       "3  2014-01-01 02:13:49            140799          211923          Hamburg   \n",
       "4  2014-01-01 02:32:41            208295          213833          Hamburg   \n",
       "\n",
       "    date_from     date_to  hour_from  hour_to  duration_trip_minutes  \n",
       "0  2014-01-01  2014-01-01          0        0              15.333333  \n",
       "1  2014-01-01  2014-01-01          1        1              17.533333  \n",
       "2  2014-01-01  2014-01-01          1        1              12.816667  \n",
       "3  2014-01-01  2014-01-01          2        2               7.900000  \n",
       "4  2014-01-01  2014-01-01          2        2               3.633333  "
      ]
     },
     "execution_count": 50,
     "metadata": {},
     "output_type": "execute_result"
    }
   ],
   "source": [
    "dat_trips = pd.read_csv('./data/biketrip_data.csv')\n",
    "dat_trips.shape"
   ]
  },
  {
   "cell_type": "code",
   "execution_count": null,
   "id": "3fef12b8-108f-45b5-9d0c-94d698143c19",
   "metadata": {},
   "outputs": [],
   "source": [
    "dat_trips.head()"
   ]
  },
  {
   "cell_type": "code",
   "execution_count": 51,
   "id": "d3452a69-5f08-488b-adae-43776ec63126",
   "metadata": {
    "tags": []
   },
   "outputs": [
    {
     "data": {
      "text/plain": [
       "Hamburg    8265966\n",
       "Name: city_rental_zone, dtype: int64"
      ]
     },
     "execution_count": 51,
     "metadata": {},
     "output_type": "execute_result"
    }
   ],
   "source": [
    "dat_trips['city_rental_zone'].value_counts()"
   ]
  },
  {
   "cell_type": "code",
   "execution_count": 54,
   "id": "4fe6713c-11c9-4122-84ad-4952f771bfbd",
   "metadata": {
    "tags": []
   },
   "outputs": [
    {
     "data": {
      "image/png": "[encoded data removed]",
      "text/plain": [
       "<Figure size 640x480 with 1 Axes>"
      ]
     },
     "metadata": {},
     "output_type": "display_data"
    }
   ],
   "source": [
    "plt.hist(dat_trips.duration_trip_minutes, bins = 120)\n",
    "plt.title('duration of trips')\n",
    "plt.xlabel('minutes')\n",
    "plt.ylabel('frequency')\n",
    "plt.ticklabel_format(style = 'plain')\n",
    "plt.show()"
   ]
  },
  {
   "cell_type": "markdown",
   "id": "533b38c9-fb09-4cbd-acd0-0ce10d8c5c88",
   "metadata": {},
   "source": [
    "## CATEGORY"
   ]
  },
  {
   "cell_type": "code",
   "execution_count": 58,
   "id": "7eb2d7e1-923b-4ce8-a7e0-d3b2432c63a5",
   "metadata": {
    "tags": []
   },
   "outputs": [
    {
     "data": {
      "text/plain": [
       "(4, 4)"
      ]
     },
     "execution_count": 58,
     "metadata": {},
     "output_type": "execute_result"
    }
   ],
   "source": [
    "dat_category = pd.read_csv('./data/OPENDATA_CATEGORY_CALL_A_BIKE.csv', sep = \";\")\n",
    "dat_category.shape"
   ]
  },
  {
   "cell_type": "code",
   "execution_count": 59,
   "id": "b7ac9d4c-d0cb-4f43-886f-4cce219c7b69",
   "metadata": {
    "tags": []
   },
   "outputs": [
    {
     "data": {
      "text/html": [
       "<div>\n",
       "<style scoped>\n",
       "    .dataframe tbody tr th:only-of-type {\n",
       "        vertical-align: middle;\n",
       "    }\n",
       "\n",
       "    .dataframe tbody tr th {\n",
       "        vertical-align: top;\n",
       "    }\n",
       "\n",
       "    .dataframe thead th {\n",
       "        text-align: right;\n",
       "    }\n",
       "</style>\n",
       "<table border=\"1\" class=\"dataframe\">\n",
       "  <thead>\n",
       "    <tr style=\"text-align: right;\">\n",
       "      <th></th>\n",
       "      <th>HAL_ID</th>\n",
       "      <th>CATEGORY</th>\n",
       "      <th>COMPANY</th>\n",
       "      <th>COMPANY_GROUP</th>\n",
       "    </tr>\n",
       "  </thead>\n",
       "  <tbody>\n",
       "    <tr>\n",
       "      <th>0</th>\n",
       "      <td>50000</td>\n",
       "      <td>Fahrrad</td>\n",
       "      <td>Call a Bike</td>\n",
       "      <td>Call a Bike</td>\n",
       "    </tr>\n",
       "    <tr>\n",
       "      <th>1</th>\n",
       "      <td>50001</td>\n",
       "      <td>Pedelec</td>\n",
       "      <td>Call a Bike</td>\n",
       "      <td>Call a Bike</td>\n",
       "    </tr>\n",
       "    <tr>\n",
       "      <th>2</th>\n",
       "      <td>51000</td>\n",
       "      <td>Fahrrad</td>\n",
       "      <td>StadtRAD Hamburg</td>\n",
       "      <td>Call a Bike</td>\n",
       "    </tr>\n",
       "    <tr>\n",
       "      <th>3</th>\n",
       "      <td>53000</td>\n",
       "      <td>Fahrrad</td>\n",
       "      <td>Konrad</td>\n",
       "      <td>Call a Bike</td>\n",
       "    </tr>\n",
       "  </tbody>\n",
       "</table>\n",
       "</div>"
      ],
      "text/plain": [
       "   HAL_ID CATEGORY           COMPANY COMPANY_GROUP\n",
       "0   50000  Fahrrad       Call a Bike   Call a Bike\n",
       "1   50001  Pedelec       Call a Bike   Call a Bike\n",
       "2   51000  Fahrrad  StadtRAD Hamburg   Call a Bike\n",
       "3   53000  Fahrrad            Konrad   Call a Bike"
      ]
     },
     "execution_count": 59,
     "metadata": {},
     "output_type": "execute_result"
    }
   ],
   "source": [
    "dat_category"
   ]
  },
  {
   "cell_type": "markdown",
   "id": "98a1c798-1c3a-4060-a72d-49adc9d52b4e",
   "metadata": {},
   "source": [
    "## RENTAL_ZONE"
   ]
  },
  {
   "cell_type": "code",
   "execution_count": 16,
   "id": "bfec4f2a-df0a-449a-8c40-3cce31fb2272",
   "metadata": {
    "tags": []
   },
   "outputs": [
    {
     "data": {
      "text/html": [
       "<div>\n",
       "<style scoped>\n",
       "    .dataframe tbody tr th:only-of-type {\n",
       "        vertical-align: middle;\n",
       "    }\n",
       "\n",
       "    .dataframe tbody tr th {\n",
       "        vertical-align: top;\n",
       "    }\n",
       "\n",
       "    .dataframe thead th {\n",
       "        text-align: right;\n",
       "    }\n",
       "</style>\n",
       "<table border=\"1\" class=\"dataframe\">\n",
       "  <thead>\n",
       "    <tr style=\"text-align: right;\">\n",
       "      <th></th>\n",
       "      <th>RENTAL_ZONE_HAL_ID</th>\n",
       "      <th>RENTAL_ZONE_HAL_SRC</th>\n",
       "      <th>NAME</th>\n",
       "      <th>CODE</th>\n",
       "      <th>TYPE</th>\n",
       "      <th>CITY</th>\n",
       "      <th>COUNTRY</th>\n",
       "      <th>LATITUDE</th>\n",
       "      <th>LONGITUDE</th>\n",
       "      <th>POI_AIRPORT_X</th>\n",
       "      <th>POI_LONG_DISTANCE_TRAINS_X</th>\n",
       "      <th>POI_SUBURBAN_TRAINS_X</th>\n",
       "      <th>POI_UNDERGROUND_X</th>\n",
       "      <th>ACTIVE_X</th>\n",
       "      <th>COMPANY</th>\n",
       "      <th>COMPANY_GROUP</th>\n",
       "    </tr>\n",
       "  </thead>\n",
       "  <tbody>\n",
       "    <tr>\n",
       "      <th>0</th>\n",
       "      <td>354</td>\n",
       "      <td>Standort</td>\n",
       "      <td>Münchner Freiheit</td>\n",
       "      <td>88001308.0</td>\n",
       "      <td>normal</td>\n",
       "      <td>München</td>\n",
       "      <td>Deutschland</td>\n",
       "      <td>11.586111</td>\n",
       "      <td>48.161944</td>\n",
       "      <td>Nein</td>\n",
       "      <td>Nein</td>\n",
       "      <td>Nein</td>\n",
       "      <td>Nein</td>\n",
       "      <td>Ja</td>\n",
       "      <td>Call a Bike</td>\n",
       "      <td>Call a Bike</td>\n",
       "    </tr>\n",
       "    <tr>\n",
       "      <th>1</th>\n",
       "      <td>388</td>\n",
       "      <td>Standort</td>\n",
       "      <td>Ostbahnhof</td>\n",
       "      <td>88001662.0</td>\n",
       "      <td>normal</td>\n",
       "      <td>München</td>\n",
       "      <td>Deutschland</td>\n",
       "      <td>11.604444</td>\n",
       "      <td>48.128611</td>\n",
       "      <td>Nein</td>\n",
       "      <td>Nein</td>\n",
       "      <td>Nein</td>\n",
       "      <td>Nein</td>\n",
       "      <td>Ja</td>\n",
       "      <td>Call a Bike</td>\n",
       "      <td>Call a Bike</td>\n",
       "    </tr>\n",
       "    <tr>\n",
       "      <th>2</th>\n",
       "      <td>499</td>\n",
       "      <td>Standort</td>\n",
       "      <td>DB_MobilityCenter</td>\n",
       "      <td>88002897.0</td>\n",
       "      <td>normal</td>\n",
       "      <td>München</td>\n",
       "      <td>Deutschland</td>\n",
       "      <td>NaN</td>\n",
       "      <td>NaN</td>\n",
       "      <td>Nein</td>\n",
       "      <td>Nein</td>\n",
       "      <td>Nein</td>\n",
       "      <td>Nein</td>\n",
       "      <td>Ja</td>\n",
       "      <td>Call a Bike</td>\n",
       "      <td>Call a Bike</td>\n",
       "    </tr>\n",
       "    <tr>\n",
       "      <th>3</th>\n",
       "      <td>1532</td>\n",
       "      <td>Standort</td>\n",
       "      <td>Stiglmaierplatz</td>\n",
       "      <td>88006552.0</td>\n",
       "      <td>normal</td>\n",
       "      <td>München</td>\n",
       "      <td>Deutschland</td>\n",
       "      <td>11.558889</td>\n",
       "      <td>48.146944</td>\n",
       "      <td>Nein</td>\n",
       "      <td>Nein</td>\n",
       "      <td>Nein</td>\n",
       "      <td>Nein</td>\n",
       "      <td>Ja</td>\n",
       "      <td>Call a Bike</td>\n",
       "      <td>Call a Bike</td>\n",
       "    </tr>\n",
       "    <tr>\n",
       "      <th>4</th>\n",
       "      <td>1559</td>\n",
       "      <td>Standort</td>\n",
       "      <td>DB_MobilityCenter</td>\n",
       "      <td>88006834.0</td>\n",
       "      <td>normal</td>\n",
       "      <td>München</td>\n",
       "      <td>Deutschland</td>\n",
       "      <td>11.575278</td>\n",
       "      <td>48.160278</td>\n",
       "      <td>Nein</td>\n",
       "      <td>Nein</td>\n",
       "      <td>Nein</td>\n",
       "      <td>Nein</td>\n",
       "      <td>Ja</td>\n",
       "      <td>Call a Bike</td>\n",
       "      <td>Call a Bike</td>\n",
       "    </tr>\n",
       "  </tbody>\n",
       "</table>\n",
       "</div>"
      ],
      "text/plain": [
       "   RENTAL_ZONE_HAL_ID RENTAL_ZONE_HAL_SRC               NAME        CODE  \\\n",
       "0                 354            Standort  Münchner Freiheit  88001308.0   \n",
       "1                 388            Standort         Ostbahnhof  88001662.0   \n",
       "2                 499            Standort  DB_MobilityCenter  88002897.0   \n",
       "3                1532            Standort    Stiglmaierplatz  88006552.0   \n",
       "4                1559            Standort  DB_MobilityCenter  88006834.0   \n",
       "\n",
       "     TYPE     CITY      COUNTRY   LATITUDE  LONGITUDE POI_AIRPORT_X  \\\n",
       "0  normal  München  Deutschland  11.586111  48.161944          Nein   \n",
       "1  normal  München  Deutschland  11.604444  48.128611          Nein   \n",
       "2  normal  München  Deutschland        NaN        NaN          Nein   \n",
       "3  normal  München  Deutschland  11.558889  48.146944          Nein   \n",
       "4  normal  München  Deutschland  11.575278  48.160278          Nein   \n",
       "\n",
       "  POI_LONG_DISTANCE_TRAINS_X POI_SUBURBAN_TRAINS_X POI_UNDERGROUND_X ACTIVE_X  \\\n",
       "0                       Nein                  Nein              Nein       Ja   \n",
       "1                       Nein                  Nein              Nein       Ja   \n",
       "2                       Nein                  Nein              Nein       Ja   \n",
       "3                       Nein                  Nein              Nein       Ja   \n",
       "4                       Nein                  Nein              Nein       Ja   \n",
       "\n",
       "       COMPANY COMPANY_GROUP  \n",
       "0  Call a Bike   Call a Bike  \n",
       "1  Call a Bike   Call a Bike  \n",
       "2  Call a Bike   Call a Bike  \n",
       "3  Call a Bike   Call a Bike  \n",
       "4  Call a Bike   Call a Bike  "
      ]
     },
     "execution_count": 16,
     "metadata": {},
     "output_type": "execute_result"
    }
   ],
   "source": [
    "dat_rental_zone = pd.read_csv('./data/OPENDATA_RENTAL_ZONE_CALL_A_BIKE.csv', sep = \";\", decimal = \",\")\n",
    "dat_rental_zone.head()"
   ]
  },
  {
   "cell_type": "code",
   "execution_count": 17,
   "id": "ba6e93a2-8d65-43c8-8988-548d21f2fcb3",
   "metadata": {
    "tags": []
   },
   "outputs": [
    {
     "data": {
      "text/plain": [
       "RENTAL_ZONE_HAL_ID              int64\n",
       "RENTAL_ZONE_HAL_SRC            object\n",
       "NAME                           object\n",
       "CODE                          float64\n",
       "TYPE                           object\n",
       "CITY                           object\n",
       "COUNTRY                        object\n",
       "LATITUDE                      float64\n",
       "LONGITUDE                     float64\n",
       "POI_AIRPORT_X                  object\n",
       "POI_LONG_DISTANCE_TRAINS_X     object\n",
       "POI_SUBURBAN_TRAINS_X          object\n",
       "POI_UNDERGROUND_X              object\n",
       "ACTIVE_X                       object\n",
       "COMPANY                        object\n",
       "COMPANY_GROUP                  object\n",
       "dtype: object"
      ]
     },
     "execution_count": 17,
     "metadata": {},
     "output_type": "execute_result"
    }
   ],
   "source": [
    "dat_rental_zone.dtypes"
   ]
  },
  {
   "cell_type": "markdown",
   "id": "c8a1ed19-9ddf-462d-8fb9-b328ec36b7e9",
   "metadata": {},
   "source": [
    "Top 5 cities by rental zones"
   ]
  },
  {
   "cell_type": "code",
   "execution_count": 30,
   "id": "5ec95c1b-eb00-40b1-b9ba-ec3e943683af",
   "metadata": {
    "tags": []
   },
   "outputs": [
    {
     "data": {
      "text/plain": [
       "Frankfurt am Main    323\n",
       "Hamburg              207\n",
       "Köln                 184\n",
       "München               88\n",
       "Kassel                58\n",
       "Name: CITY, dtype: int64"
      ]
     },
     "execution_count": 30,
     "metadata": {},
     "output_type": "execute_result"
    }
   ],
   "source": [
    "dat_rental_zone[\"CITY\"].value_counts().head()"
   ]
  },
  {
   "cell_type": "markdown",
   "id": "3aef338d-dc7d-4b0e-97dd-b92a0aa5e352",
   "metadata": {},
   "source": [
    "A contextless figure"
   ]
  },
  {
   "cell_type": "code",
   "execution_count": 42,
   "id": "05e42d93-4b4b-4c6c-849a-77eee78f423f",
   "metadata": {
    "tags": []
   },
   "outputs": [
    {
     "data": {
      "image/png": "[encoded data removed]",
      "text/plain": [
       "<Figure size 640x480 with 1 Axes>"
      ]
     },
     "metadata": {},
     "output_type": "display_data"
    }
   ],
   "source": [
    "plt.plot(dat_rental_zone.LATITUDE, dat_rental_zone.LONGITUDE, 'o');"
   ]
  },
  {
   "cell_type": "markdown",
   "id": "b9ea0105-5faa-4992-9a86-2cda8efb7fba",
   "metadata": {},
   "source": [
    "## VEHICLE"
   ]
  },
  {
   "cell_type": "code",
   "execution_count": 57,
   "id": "46d17638-132a-4592-978a-229e95487061",
   "metadata": {
    "tags": []
   },
   "outputs": [
    {
     "data": {
      "text/plain": [
       "(11228, 15)"
      ]
     },
     "execution_count": 57,
     "metadata": {},
     "output_type": "execute_result"
    }
   ],
   "source": [
    "dat_vehicle = pd.read_csv('./data/OPENDATA_VEHICLE_CALL_A_BIKE.csv', sep = \";\", decimal = \",\")\n",
    "dat_vehicle.shape"
   ]
  },
  {
   "cell_type": "code",
   "execution_count": 56,
   "id": "aa12ddbf-686f-4c45-85d6-90c8b7195eed",
   "metadata": {
    "tags": []
   },
   "outputs": [
    {
     "data": {
      "text/html": [
       "<div>\n",
       "<style scoped>\n",
       "    .dataframe tbody tr th:only-of-type {\n",
       "        vertical-align: middle;\n",
       "    }\n",
       "\n",
       "    .dataframe tbody tr th {\n",
       "        vertical-align: top;\n",
       "    }\n",
       "\n",
       "    .dataframe thead th {\n",
       "        text-align: right;\n",
       "    }\n",
       "</style>\n",
       "<table border=\"1\" class=\"dataframe\">\n",
       "  <thead>\n",
       "    <tr style=\"text-align: right;\">\n",
       "      <th></th>\n",
       "      <th>VEHICLE_HAL_ID</th>\n",
       "      <th>VEHICLE_MODEL_TYPE</th>\n",
       "      <th>VEHICLE_MANUFACTURER_NAME</th>\n",
       "      <th>VEHICLE_MODEL_NAME</th>\n",
       "      <th>VEHICLE_TYPE_NAME</th>\n",
       "      <th>VIN</th>\n",
       "      <th>REGISTRATION_PLATE</th>\n",
       "      <th>SERIAL_NUMBER</th>\n",
       "      <th>KW</th>\n",
       "      <th>FUEL_TYPE_NAME</th>\n",
       "      <th>OWNERSHIP_TYPE</th>\n",
       "      <th>CAPACITY_AMOUNT</th>\n",
       "      <th>ACCESS_CONTROL_COMPONENT_TYPE</th>\n",
       "      <th>COMPANY</th>\n",
       "      <th>COMPANY_GROUP</th>\n",
       "    </tr>\n",
       "  </thead>\n",
       "  <tbody>\n",
       "    <tr>\n",
       "      <th>0</th>\n",
       "      <td>110466</td>\n",
       "      <td>Fahrrad</td>\n",
       "      <td>Biketec</td>\n",
       "      <td>DB-Look</td>\n",
       "      <td>CallBike</td>\n",
       "      <td>NaN</td>\n",
       "      <td>NaN</td>\n",
       "      <td>4467</td>\n",
       "      <td>NaN</td>\n",
       "      <td>NaN</td>\n",
       "      <td>Kauf</td>\n",
       "      <td>NaN</td>\n",
       "      <td>CAB GPRS 2.0</td>\n",
       "      <td>Call a Bike</td>\n",
       "      <td>Call a Bike</td>\n",
       "    </tr>\n",
       "    <tr>\n",
       "      <th>1</th>\n",
       "      <td>110471</td>\n",
       "      <td>Fahrrad</td>\n",
       "      <td>Biketec</td>\n",
       "      <td>DB-Look</td>\n",
       "      <td>CallBike</td>\n",
       "      <td>NaN</td>\n",
       "      <td>NaN</td>\n",
       "      <td>4472</td>\n",
       "      <td>NaN</td>\n",
       "      <td>NaN</td>\n",
       "      <td>Kauf</td>\n",
       "      <td>NaN</td>\n",
       "      <td>CAB 4.0</td>\n",
       "      <td>Call a Bike</td>\n",
       "      <td>Call a Bike</td>\n",
       "    </tr>\n",
       "    <tr>\n",
       "      <th>2</th>\n",
       "      <td>110574</td>\n",
       "      <td>Fahrrad</td>\n",
       "      <td>Biketec</td>\n",
       "      <td>DB-Look</td>\n",
       "      <td>CallBike</td>\n",
       "      <td>NaN</td>\n",
       "      <td>NaN</td>\n",
       "      <td>4575</td>\n",
       "      <td>NaN</td>\n",
       "      <td>NaN</td>\n",
       "      <td>Kauf</td>\n",
       "      <td>NaN</td>\n",
       "      <td>CAB GPRS 2.0</td>\n",
       "      <td>Call a Bike</td>\n",
       "      <td>Call a Bike</td>\n",
       "    </tr>\n",
       "    <tr>\n",
       "      <th>3</th>\n",
       "      <td>110581</td>\n",
       "      <td>Fahrrad</td>\n",
       "      <td>Biketec</td>\n",
       "      <td>StadtRAD-Look</td>\n",
       "      <td>StadtRAD</td>\n",
       "      <td>NaN</td>\n",
       "      <td>NaN</td>\n",
       "      <td>4582</td>\n",
       "      <td>NaN</td>\n",
       "      <td>NaN</td>\n",
       "      <td>Kauf</td>\n",
       "      <td>NaN</td>\n",
       "      <td>CAB 2.0</td>\n",
       "      <td>StadtRAD Hamburg</td>\n",
       "      <td>Call a Bike</td>\n",
       "    </tr>\n",
       "    <tr>\n",
       "      <th>4</th>\n",
       "      <td>110588</td>\n",
       "      <td>Fahrrad</td>\n",
       "      <td>Biketec</td>\n",
       "      <td>DB-Look</td>\n",
       "      <td>CallBike</td>\n",
       "      <td>NaN</td>\n",
       "      <td>NaN</td>\n",
       "      <td>4589</td>\n",
       "      <td>NaN</td>\n",
       "      <td>NaN</td>\n",
       "      <td>Kauf</td>\n",
       "      <td>NaN</td>\n",
       "      <td>CAB GPRS 2.0</td>\n",
       "      <td>Call a Bike</td>\n",
       "      <td>Call a Bike</td>\n",
       "    </tr>\n",
       "  </tbody>\n",
       "</table>\n",
       "</div>"
      ],
      "text/plain": [
       "   VEHICLE_HAL_ID VEHICLE_MODEL_TYPE VEHICLE_MANUFACTURER_NAME  \\\n",
       "0          110466            Fahrrad                   Biketec   \n",
       "1          110471            Fahrrad                   Biketec   \n",
       "2          110574            Fahrrad                   Biketec   \n",
       "3          110581            Fahrrad                   Biketec   \n",
       "4          110588            Fahrrad                   Biketec   \n",
       "\n",
       "  VEHICLE_MODEL_NAME VEHICLE_TYPE_NAME  VIN  REGISTRATION_PLATE  \\\n",
       "0            DB-Look          CallBike  NaN                 NaN   \n",
       "1            DB-Look          CallBike  NaN                 NaN   \n",
       "2            DB-Look          CallBike  NaN                 NaN   \n",
       "3      StadtRAD-Look          StadtRAD  NaN                 NaN   \n",
       "4            DB-Look          CallBike  NaN                 NaN   \n",
       "\n",
       "   SERIAL_NUMBER  KW  FUEL_TYPE_NAME OWNERSHIP_TYPE  CAPACITY_AMOUNT  \\\n",
       "0           4467 NaN             NaN           Kauf              NaN   \n",
       "1           4472 NaN             NaN           Kauf              NaN   \n",
       "2           4575 NaN             NaN           Kauf              NaN   \n",
       "3           4582 NaN             NaN           Kauf              NaN   \n",
       "4           4589 NaN             NaN           Kauf              NaN   \n",
       "\n",
       "  ACCESS_CONTROL_COMPONENT_TYPE           COMPANY COMPANY_GROUP  \n",
       "0                  CAB GPRS 2.0       Call a Bike   Call a Bike  \n",
       "1                       CAB 4.0       Call a Bike   Call a Bike  \n",
       "2                  CAB GPRS 2.0       Call a Bike   Call a Bike  \n",
       "3                       CAB 2.0  StadtRAD Hamburg   Call a Bike  \n",
       "4                  CAB GPRS 2.0       Call a Bike   Call a Bike  "
      ]
     },
     "execution_count": 56,
     "metadata": {},
     "output_type": "execute_result"
    }
   ],
   "source": [
    "dat_vehicle.head()"
   ]
  },
  {
   "cell_type": "code",
   "execution_count": 71,
   "id": "660a5f4b-f4a6-4a08-8490-f8c7bbe2a24b",
   "metadata": {
    "tags": []
   },
   "outputs": [
    {
     "data": {
      "text/plain": [
       "CallBike     7943\n",
       "StadtRAD     2667\n",
       "Konrad        497\n",
       "Pedelec       118\n",
       "LIDL-BIKE       3\n",
       "Name: VEHICLE_TYPE_NAME, dtype: int64"
      ]
     },
     "execution_count": 71,
     "metadata": {},
     "output_type": "execute_result"
    }
   ],
   "source": [
    "dat_vehicle.VEHICLE_TYPE_NAME.value_counts()"
   ]
  },
  {
   "cell_type": "markdown",
   "id": "1297270e-ff2b-4b79-81bf-e52370679f62",
   "metadata": {},
   "source": [
    "## SUMMARY"
   ]
  },
  {
   "cell_type": "markdown",
   "id": "406a1207-9d37-403d-9560-1682fd2632d5",
   "metadata": {},
   "source": [
    "- all observations in **BIKETRIPS** are from *Hamburg*\n",
    "- to get latitude and longitude corresponding to trips, merge with the respective columns in **RENTAL_ZONE** via the key *RENTAL_ZONE_HAL_ID* → see next section\n",
    "- unclear if different types of **VEHICLES** are relevant for the anaylsis in Hamburg\n",
    "- unclear why data in **CATEGORY** could be relevant at all"
   ]
  },
  {
   "cell_type": "markdown",
   "id": "951dee43-cec8-4fa5-b08f-82f509340f74",
   "metadata": {},
   "source": [
    "## POSTSCRIPTUM"
   ]
  },
  {
   "cell_type": "markdown",
   "id": "5dbae69c-21ae-41f2-8df5-96fad4cd60d1",
   "metadata": {
    "tags": []
   },
   "source": [
    "Simple example of merge to get latitude and longitude for each trip/stations involved"
   ]
  },
  {
   "cell_type": "code",
   "execution_count": 104,
   "id": "610544a5-11d0-400d-ad20-23a93cc0aeea",
   "metadata": {
    "tags": []
   },
   "outputs": [
    {
     "data": {
      "text/html": [
       "<div>\n",
       "<style scoped>\n",
       "    .dataframe tbody tr th:only-of-type {\n",
       "        vertical-align: middle;\n",
       "    }\n",
       "\n",
       "    .dataframe tbody tr th {\n",
       "        vertical-align: top;\n",
       "    }\n",
       "\n",
       "    .dataframe thead th {\n",
       "        text-align: right;\n",
       "    }\n",
       "</style>\n",
       "<table border=\"1\" class=\"dataframe\">\n",
       "  <thead>\n",
       "    <tr style=\"text-align: right;\">\n",
       "      <th></th>\n",
       "      <th>start_station_id</th>\n",
       "      <th>end_station_id</th>\n",
       "      <th>duration_trip_minutes</th>\n",
       "    </tr>\n",
       "  </thead>\n",
       "  <tbody>\n",
       "    <tr>\n",
       "      <th>0</th>\n",
       "      <td>214170</td>\n",
       "      <td>131880</td>\n",
       "      <td>15.333333</td>\n",
       "    </tr>\n",
       "    <tr>\n",
       "      <th>1</th>\n",
       "      <td>131646</td>\n",
       "      <td>131648</td>\n",
       "      <td>17.533333</td>\n",
       "    </tr>\n",
       "    <tr>\n",
       "      <th>2</th>\n",
       "      <td>211922</td>\n",
       "      <td>138376</td>\n",
       "      <td>12.816667</td>\n",
       "    </tr>\n",
       "    <tr>\n",
       "      <th>3</th>\n",
       "      <td>140799</td>\n",
       "      <td>211923</td>\n",
       "      <td>7.900000</td>\n",
       "    </tr>\n",
       "    <tr>\n",
       "      <th>4</th>\n",
       "      <td>208295</td>\n",
       "      <td>213833</td>\n",
       "      <td>3.633333</td>\n",
       "    </tr>\n",
       "    <tr>\n",
       "      <th>5</th>\n",
       "      <td>208292</td>\n",
       "      <td>212607</td>\n",
       "      <td>13.016667</td>\n",
       "    </tr>\n",
       "  </tbody>\n",
       "</table>\n",
       "</div>"
      ],
      "text/plain": [
       "   start_station_id  end_station_id  duration_trip_minutes\n",
       "0            214170          131880              15.333333\n",
       "1            131646          131648              17.533333\n",
       "2            211922          138376              12.816667\n",
       "3            140799          211923               7.900000\n",
       "4            208295          213833               3.633333\n",
       "5            208292          212607              13.016667"
      ]
     },
     "execution_count": 104,
     "metadata": {},
     "output_type": "execute_result"
    }
   ],
   "source": [
    "dat_trips_short = dat_trips.loc[0:5, ['start_station_id', 'end_station_id', 'duration_trip_minutes']] \n",
    "dat_trips_short"
   ]
  },
  {
   "cell_type": "markdown",
   "id": "8e18142f-b682-465a-afb1-05e0411f8450",
   "metadata": {},
   "source": [
    "Latitude and longitude of start station"
   ]
  },
  {
   "cell_type": "code",
   "execution_count": 97,
   "id": "a2b3e4b9-37c3-406a-b42d-a17e81723f61",
   "metadata": {
    "tags": []
   },
   "outputs": [],
   "source": [
    "dat_merge_start = pd.merge(dat_trips_short, dat_rental_zone[['RENTAL_ZONE_HAL_ID', 'LATITUDE', 'LONGITUDE']], left_on='start_station_id', right_on = 'RENTAL_ZONE_HAL_ID')\n",
    "dat_merge_start = dat_merge_start.rename(columns={\"LATITUDE\": \"start_lat\", \"LONGITUDE\": \"start_long\"})\n",
    "dat_merge_start = dat_merge_start.drop(columns=['RENTAL_ZONE_HAL_ID']);"
   ]
  },
  {
   "cell_type": "markdown",
   "id": "14aaaea5-9fba-4055-807e-6025c5edeb84",
   "metadata": {},
   "source": [
    "Latitude and longitude of end station"
   ]
  },
  {
   "cell_type": "code",
   "execution_count": 100,
   "id": "0ef75a74-4193-4406-9eca-31243ea2092a",
   "metadata": {
    "tags": []
   },
   "outputs": [],
   "source": [
    "dat_merged = pd.merge(dat_merge_start, dat_rental_zone[['RENTAL_ZONE_HAL_ID', 'LATITUDE', 'LONGITUDE']], left_on='end_station_id', right_on = 'RENTAL_ZONE_HAL_ID')\n",
    "dat_merged = dat_merged.rename(columns={\"LATITUDE\": \"end_lat\", \"LONGITUDE\": \"end_long\"})\n",
    "dat_merged = dat_merged.drop(columns=['RENTAL_ZONE_HAL_ID', 'start_station_id', 'end_station_id'])"
   ]
  },
  {
   "cell_type": "code",
   "execution_count": 101,
   "id": "9f8b24a8-2c21-4fc5-93de-4286b84c308d",
   "metadata": {
    "tags": []
   },
   "outputs": [
    {
     "data": {
      "text/plain": [
       "Index(['duration_trip_minutes', 'start_lat', 'start_long', 'end_lat',\n",
       "       'end_long'],\n",
       "      dtype='object')"
      ]
     },
     "execution_count": 101,
     "metadata": {},
     "output_type": "execute_result"
    }
   ],
   "source": [
    "dat_merged.columns"
   ]
  }
 ],
 "metadata": {
  "kernelspec": {
   "display_name": "Python 3 (ipykernel)",
   "language": "python",
   "name": "python3"
  },
  "language_info": {
   "codemirror_mode": {
    "name": "ipython",
    "version": 3
   },
   "file_extension": ".py",
   "mimetype": "text/x-python",
   "name": "python",
   "nbconvert_exporter": "python",
   "pygments_lexer": "ipython3",
   "version": "3.9.1"
  }
 },
 "nbformat": 4,
 "nbformat_minor": 5
}
